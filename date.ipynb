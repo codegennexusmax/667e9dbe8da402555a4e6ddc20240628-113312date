{
 "cells": [
  {
   "cell_type": "markdown",
   "id": "d58f4756",
   "metadata": {},
   "source": [
    "***GENERATED CODE FOR date PIPELINE.***"
   ]
  },
  {
   "cell_type": "markdown",
   "id": "26ff7cac",
   "metadata": {},
   "source": [
    "***DON'T EDIT THIS CODE.***"
   ]
  },
  {
   "cell_type": "markdown",
   "id": "1e6320c9",
   "metadata": {},
   "source": [
    "***CONNECTOR FUNCTIONS TO READ DATA.***"
   ]
  },
  {
   "cell_type": "code",
   "execution_count": null,
   "id": "2915cbc3",
   "metadata": {},
   "outputs": [],
   "source": [
    "import os\n",
    "import datetime\n",
    "import logging\n",
    "import warnings\n",
    "warnings.filterwarnings('ignore')\n",
    "logging.basicConfig(format='%(levelname)s:%(message)s', level=logging.INFO)\n",
    "\n",
    "\n",
    "class HDFSConnector:\n",
    "\n",
    "    def fetch(spark, config):\n",
    "        ################### INPUT HADOOP HOST PORT TO CONNECT WITH ###############################\n",
    "        hdfs_server = str(os.environ['HDFS_SERVER'])\n",
    "        hdfs_port = int(os.environ['HDFS_PORT'])\n",
    "        df = spark.read.options(header='true', inferschema='true').csv(\n",
    "            f\"hdfs://{hdfs_server}:{hdfs_port}{eval(config)['url']}\", header='true')\n",
    "        display(df.limit(2).toPandas())\n",
    "        return df\n",
    "\n",
    "    def put(df, spark, config):\n",
    "        return df.write.format('csv').options(header='true' if eval(config)[\"is_header\"] == \"Use Header Line\" else 'false',\n",
    "                                              delimiter=eval(config)[\"delimiter\"]).save((\"%s %s\") % (datetime.datetime.now().strftime(\"%Y-%m-%d %H.%M.%S\")+\"_\", eval(config)['url']))\n"
   ]
  },
  {
   "cell_type": "markdown",
   "id": "4da4d3b5",
   "metadata": {},
   "source": [
    "***OPERATION FUNCTIONS***"
   ]
  },
  {
   "cell_type": "code",
   "execution_count": null,
   "id": "634ba9bb",
   "metadata": {},
   "outputs": [],
   "source": [
    "import pyspark\n",
    "from dask.dataframe import from_pandas\n",
    "import json\n",
    "\n",
    "\n",
    "def DateTransform(df, functionsData, applyOn=[]):\n",
    "    import dask.dataframe as dd\n",
    "    import pandas as pd\n",
    "    import numpy as np\n",
    "\n",
    "    for functiondata in functionsData:\n",
    "        functiondata = functiondata\n",
    "\n",
    "    dfcp = df\n",
    "    dfcp1 = dfcp\n",
    "    resulttype = dfcp1.select_dtypes(include=[np.datetime64])\n",
    "    for existingdatecols in resulttype.columns:\n",
    "        dfcp[existingdatecols] = dfcp[existingdatecols].apply(\n",
    "            lambda x: x.replace(tzinfo=None))\n",
    "\n",
    "    Dateformat1 = 'YYYY-DD-MM'\n",
    "    Dateformat2 = 'YY/MM/DD'\n",
    "    Dateformat3 = 'DD/MM/YYYY'\n",
    "    Dateformat4 = 'M/D/YY'\n",
    "    NotDateFromat = [Dateformat1, Dateformat2, Dateformat3, Dateformat4]\n",
    "\n",
    "    if 'inputDateFormat' in functiondata:\n",
    "        coldetail = functiondata['column']\n",
    "        for col in coldetail:\n",
    "            colname = col['columnName']\n",
    "        inputFormat = str(functiondata['inputDateFormat'])\n",
    "        functiondata['outputDateFormat']\n",
    "        functiondata['newColumn']\n",
    "    if ('newColumnName' in functiondata):\n",
    "        if inputFormat in NotDateFromat:\n",
    "            NewDateCol = functiondata['newColumnName']\n",
    "            dfcp = dfcp.compute()\n",
    "            dfcp[NewDateCol] = dfcp[colname].apply(\n",
    "                lambda x: pd.to_datetime(x, format='%d/%m/%Y', utc=False))\n",
    "            dfcp[NewDateCol] = dfcp[NewDateCol].apply(\n",
    "                lambda x: x.strftime(\"%Y-%m-%d\"))\n",
    "            dfcp[NewDateCol] = pd.to_datetime(dfcp[NewDateCol], utc=False)\n",
    "            dfcp = dd.from_pandas(dfcp, npartitions=2)\n",
    "            dfcp[NewDateCol] = dfcp[NewDateCol].apply(\n",
    "                lambda x: x.replace(tzinfo=None))\n",
    "    elif (('newColumnName' not in functiondata) and (inputFormat in NotDateFromat)):\n",
    "        dfcp = dfcp.compute()\n",
    "        dfcp[colname] = dfcp[colname].apply(\n",
    "            lambda x: pd.to_datetime(x, format='%d/%m/%Y'))\n",
    "        dfcp[colname] = dfcp[colname].apply(lambda x: x.strftime(\"%Y-%m-%d\"))\n",
    "        dfcp[colname] = pd.to_datetime(dfcp[colname], utc=False)\n",
    "        dfcp = dd.from_pandas(dfcp, npartitions=2)\n",
    "\n",
    "    return dfcp\n",
    "\n",
    "\n",
    "def runDataCleansing(sparkDf, spark, config):\n",
    "    configObj = json.loads(config)\n",
    "    sparkDf.persist(pyspark.StorageLevel.MEMORY_AND_DISK)\n",
    "    df = from_pandas((sparkDf.toPandas()), npartitions=5)\n",
    "    functionList = configObj['functionsApplied']\n",
    "    Data_Cleansing_Methods = {\"replaceBy\": replaceValues,\n",
    "                              \"formula\": calculateFormula,\n",
    "                              \"aggregate\": aggregation,\n",
    "                              \"converttostringtype\": changeToString,\n",
    "                              \"editname\": renameColumns}\n",
    "    for function in functionList:\n",
    "        function['functionName']\n",
    "        df = Data_Cleansing_Methods[function['functionName']](df, function['functionsData'],\n",
    "                                                              function['applyOn'])\n",
    "    sparkDf = spark.createDataFrame(df.compute())\n",
    "\n",
    "    display(sparkDf.limit(2).toPandas())\n",
    "    return sparkDf\n"
   ]
  },
  {
   "cell_type": "markdown",
   "id": "ca1e4a9e",
   "metadata": {},
   "source": [
    "***CONNECTOR FUNCTIONS TO WRITE DATA.***"
   ]
  },
  {
   "cell_type": "code",
   "execution_count": null,
   "id": "273af49f",
   "metadata": {},
   "outputs": [],
   "source": [
    "import datetime\n",
    "import requests\n",
    "import datetime\n",
    "import logging\n",
    "import warnings\n",
    "warnings.filterwarnings('ignore')\n",
    "logging.basicConfig(format='%(levelname)s:%(message)s', level=logging.INFO)\n",
    "\n",
    "\n",
    "class NumtraConnector:\n",
    "\n",
    "    def put(inStages, inStagesData, stageId, spark, config):\n",
    "        path = eval(config)['server_url']\n",
    "        baseType = eval(config)['baseType']\n",
    "        results_url = eval(config)['results_url']\n",
    "        server = eval(config)['server']\n",
    "        originalfile = eval(config)['orignalKey']\n",
    "        eval(config)['pathOnly']\n",
    "        filename = eval(config)['filename']\n",
    "        eval(config)['ser']\n",
    "        eval(config)['user']\n",
    "        eval(config)['password']\n",
    "        eval(config)['authSource']\n",
    "        eval(config)['user_id']\n",
    "        eval(config)['parent_id']\n",
    "        eval(config)['project_id']\n",
    "        time = str(int(datetime.datetime.now().timestamp()))\n",
    "\n",
    "        inStagesData[inStages[0]]\n",
    "\n",
    "        print(path)\n",
    "        print(baseType)\n",
    "        print(results_url)\n",
    "        print(server)\n",
    "        print(originalfile)\n",
    "        print(filename)\n",
    "\n",
    "        args = {\n",
    "            'url': path,\n",
    "            'baseType': baseType,\n",
    "            'originalfile': originalfile,\n",
    "            'filename': time + filename\n",
    "        }\n",
    "\n",
    "        response = requests.post(results_url, args)\n",
    "        return response\n"
   ]
  },
  {
   "cell_type": "markdown",
   "id": "4e938275",
   "metadata": {},
   "source": [
    "***READING DATAFRAME***"
   ]
  },
  {
   "cell_type": "code",
   "execution_count": null,
   "id": "db46754c",
   "metadata": {},
   "outputs": [],
   "source": [
    "############## CREATE SPARK SESSION ############################ ENTER YOUR SPARK MASTER IP AND PORT TO CONNECT TO SERVER ################\n",
    "from pyspark.sql import SparkSession\n",
    "spark = SparkSession.builder.master('local[1]').getOrCreate()\n",
    "#%run dateHooks.ipynb\n",
    "try:\n",
    "\t#sourcePreExecutionHook()\n",
    "\n",
    "\tamplerowzshp = HDFSConnector.fetch(spark, \"{'url': '/FileStore/platform/testdata/1719574158255_sample 100 rows.csv', 'filename': 'sample 100 rows.csv', 'delimiter': ',', 'file_type': 'Delimeted', 'dbfs_token': '', 'dbfs_domain': '', 'FilePath': '/TESTING/sample 100 rows.csv', 'viewFileName': 'sample 100 rows.csv', 'is_header': 'Use Header Line', 'baseType': 'hdfs', 'server_url': '/nexusMax/NexusMaxPlatform/uploads/platform/', 'results_url': 'http://dnm.bfirst.ai:44040/api/read/hdfs'}\")\n",
    "\n",
    "except Exception as ex: \n",
    "\tlogging.error(ex)\n",
    "#spark.stop()\n"
   ]
  },
  {
   "cell_type": "markdown",
   "id": "1abd9dfe",
   "metadata": {},
   "source": [
    "***PERFORMING OPERATIONS***"
   ]
  },
  {
   "cell_type": "code",
   "execution_count": null,
   "id": "3d9f76b5",
   "metadata": {},
   "outputs": [],
   "source": [
    "#%run dateHooks.ipynb\n",
    "try:\n",
    "\t#operationPreExecutionHook()\n",
    "\n",
    "datapreparation = runDataCleansing(amplerowzshp,spark,json.dumps( {\"url\": \"/FileStore/platform/testdata/1719574158255_sample 100 rows.csv\", \"source_attributes\": {}, \"DataPrepFile\": \"/FileStore/platform/testdata/1719574158255_sample 100 rows.csv\", \"data_source\": \"platfiles\", \"startListenerOnly\": 1, \"dateColumnNames\": [\"AdmitDate\"], \"FilePath\": \"/FileStore/platform/extra/667e9ddd8da402555a4e6df21719574324/0part.csv\", \"requestRatio\": 0.0, \"totalRows\": 99, \"BasicStats\": {\"missingValues\": 0.0, \"numberOfColumns\": 14, \"numberOfRows\": 99, \"duplicateRowCount\": 0, \"stats\": [{\"column\": \"AdmitDate\", \"alias\": \"AdmitDate\", \"generated\": 0, \"type\": \"date\", \"max\": \"2013123\", \"min\": \"201311\", \"mean\": \"\", \"missing\": 0.0, \"stddev\": \"\", \"outliers\": [], \"validation\": []}, {\"column\": \"lengthofstay\", \"alias\": \"lengthofstay\", \"generated\": 0, \"type\": \"numeric\", \"max\": 12, \"min\": 1, \"mean\": 4.101010101010101, \"missing\": 0.0, \"stddev\": 2.48, \"outliers\": [12], \"validation\": []}, {\"column\": \"rcount\", \"alias\": \"rcount\", \"generated\": 0, \"type\": \"numeric\", \"max\": 5, \"min\": 0, \"mean\": 1.3737373737373737, \"missing\": 0.0, \"stddev\": 1.71, \"outliers\": [], \"validation\": []}, {\"column\": \"gender\", \"alias\": \"gender\", \"generated\": 0, \"type\": \"String\", \"max\": \"M\", \"min\": \"F\", \"mean\": \"\", \"missing\": 0.0, \"stddev\": \"\", \"outliers\": [], \"validation\": []}, {\"column\": \"hematocrit\", \"alias\": \"hematocrit\", \"generated\": 0, \"type\": \"real\", \"max\": 21.5, \"min\": 7.5, \"mean\": 11.86287878787879, \"missing\": 0.0, \"stddev\": 2.03, \"outliers\": [7.7, 8.075, 8.5, 7.5, 15.9, 21.5], \"validation\": []}, {\"column\": \"neutrophils\", \"alias\": \"neutrophils\", \"generated\": 0, \"type\": \"real\", \"max\": 32.3, \"min\": 4.3, \"mean\": 9.877525252525253, \"missing\": 0.0, \"stddev\": 4.0, \"outliers\": [32.3, 15.7, 16.0, 16.7, 18.65, 19.8, 20.5, 16.5], \"validation\": []}, {\"column\": \"sodium\", \"alias\": \"sodium\", \"generated\": 0, \"type\": \"real\", \"max\": 145.402618, \"min\": 131.4523506, \"mean\": 137.2975126909091, \"missing\": 0.0, \"stddev\": 2.95, \"outliers\": [145.402618], \"validation\": []}, {\"column\": \"glucose\", \"alias\": \"glucose\", \"generated\": 0, \"type\": \"real\", \"max\": 248.9076823, \"min\": 77.7992345, \"mean\": 142.02381125636367, \"missing\": 0.0, \"stddev\": 29.59, \"outliers\": [248.9076823, 213.5903601], \"validation\": []}, {\"column\": \"bloodureanitro\", \"alias\": \"bloodureanitro\", \"generated\": 0, \"type\": \"real\", \"max\": 83.0, \"min\": 3.0, \"mean\": 14.348484848484848, \"missing\": 0.0, \"stddev\": 9.62, \"outliers\": [32.0, 33.0, 3.0, 4.0, 26.0, 6.0, 39.0, 5.0, 41.0, 83.0, 25.0, 26.5, 30.0], \"validation\": []}, {\"column\": \"creatinine\", \"alias\": \"creatinine\", \"generated\": 0, \"type\": \"real\", \"max\": 1.721810542, \"min\": 0.603728088, \"mean\": 1.1023522253030305, \"missing\": 0.0, \"stddev\": 0.22, \"outliers\": [0.603728088, 1.640736145, 1.721810542], \"validation\": []}, {\"column\": \"bmi\", \"alias\": \"bmi\", \"generated\": 0, \"type\": \"real\", \"max\": 33.96650676, \"min\": 24.1437635, \"mean\": 29.55568301272727, \"missing\": 0.0, \"stddev\": 1.9, \"outliers\": [24.1437635, 25.17006612], \"validation\": []}, {\"column\": \"pulse\", \"alias\": \"pulse\", \"generated\": 0, \"type\": \"numeric\", \"max\": 93, \"min\": 51, \"mean\": 72.79797979797979, \"missing\": 0.0, \"stddev\": 10.1, \"outliers\": [53, 51, 93], \"validation\": []}, {\"column\": \"respiration\", \"alias\": \"respiration\", \"generated\": 0, \"type\": \"real\", \"max\": 8.9, \"min\": 4.3, \"mean\": 6.548484848484849, \"missing\": 0.0, \"stddev\": 0.57, \"outliers\": [4.3, 5.3, 6.3, 7.1, 5.5, 5.6, 6.4, 7.2, 7.0, 6.2, 6.1, 6.0, 7.6, 8.9, 6.6, 6.9, 7.4, 8.0, 8.4, 8.6, 6.7, 6.8], \"validation\": []}, {\"column\": \"DATE\", \"alias\": \"DATE\", \"generated\": 1, \"type\": \"date\", \"max\": \"2013123\", \"min\": \"201311\", \"mean\": \"\", \"missing\": 0.0, \"stddev\": \"\", \"outliers\": [], \"validation\": []}]}, \"predictionPowerScore\": [{\"AdmitDate\": 1.0, \"DATE\": 0.0, \"bloodureanitro\": 0.0, \"bmi\": 0.0, \"creatinine\": 0.0, \"gender\": 0.0, \"glucose\": 0.0, \"hematocrit\": 0.0, \"lengthofstay\": 0.0, \"neutrophils\": 0.0, \"pulse\": 0.0, \"rcount\": 0.0, \"respiration\": 0.0, \"sodium\": 0.0}, {\"AdmitDate\": 0.0, \"DATE\": 1.0, \"bloodureanitro\": 0.0, \"bmi\": 0.0, \"creatinine\": 0.0, \"gender\": 0.0, \"glucose\": 0.0, \"hematocrit\": 0.0, \"lengthofstay\": 0.0, \"neutrophils\": 0.0, \"pulse\": 0.0, \"rcount\": 0.0, \"respiration\": 0.0, \"sodium\": 0.0}, {\"AdmitDate\": 0.0, \"DATE\": 0.0, \"bloodureanitro\": 1.0, \"bmi\": 0.0, \"creatinine\": 0.0, \"gender\": 0.0, \"glucose\": 0.0, \"hematocrit\": 0.0, \"lengthofstay\": 0.0, \"neutrophils\": 0.0, \"pulse\": 0.0, \"rcount\": 0.0, \"respiration\": 0.0, \"sodium\": 0.0}, {\"AdmitDate\": 0.0, \"DATE\": 0.0, \"bloodureanitro\": 0.0, \"bmi\": 1.0, \"creatinine\": 0.0, \"gender\": 0.0, \"glucose\": 0.0, \"hematocrit\": 0.0, \"lengthofstay\": 0.0, \"neutrophils\": 0.0, \"pulse\": 0.0, \"rcount\": 0.0, \"respiration\": 0.0, \"sodium\": 0.0}, {\"AdmitDate\": 0.0, \"DATE\": 0.0, \"bloodureanitro\": 0.0, \"bmi\": 0.0, \"creatinine\": 1.0, \"gender\": 0.0057833558, \"glucose\": 0.0, \"hematocrit\": 0.0, \"lengthofstay\": 0.0, \"neutrophils\": 0.0, \"pulse\": 0.0, \"rcount\": 0.0, \"respiration\": 0.0, \"sodium\": 0.0}, {\"AdmitDate\": 0.0, \"DATE\": 0.0, \"bloodureanitro\": 0.0894867797, \"bmi\": 0.1737777151, \"creatinine\": 0.0, \"gender\": 1.0, \"glucose\": 0.0205906783, \"hematocrit\": 0.2391114978, \"lengthofstay\": 0.1576981092, \"neutrophils\": 0.0121807692, \"pulse\": 0.0, \"rcount\": 0.0, \"respiration\": 0.0, \"sodium\": 0.1001877151}, {\"AdmitDate\": 0.0, \"DATE\": 0.0, \"bloodureanitro\": 0.0, \"bmi\": 0.0, \"creatinine\": 0.0, \"gender\": 0.0, \"glucose\": 1.0, \"hematocrit\": 0.0, \"lengthofstay\": 0.0, \"neutrophils\": 0.0, \"pulse\": 0.0, \"rcount\": 0.0, \"respiration\": 0.0, \"sodium\": 0.0}, {\"AdmitDate\": 0.0, \"DATE\": 0.0, \"bloodureanitro\": 0.0, \"bmi\": 0.0, \"creatinine\": 0.0, \"gender\": 0.0, \"glucose\": 0.0, \"hematocrit\": 1.0, \"lengthofstay\": 0.0, \"neutrophils\": 0.0, \"pulse\": 0.0, \"rcount\": 0.0, \"respiration\": 0.0, \"sodium\": 0.0}, {\"AdmitDate\": 0.0, \"DATE\": 0.0, \"bloodureanitro\": 0.0, \"bmi\": 0.0, \"creatinine\": 0.0, \"gender\": 0.0, \"glucose\": 0.0, \"hematocrit\": 0.0, \"lengthofstay\": 1.0, \"neutrophils\": 0.0, \"pulse\": 0.0, \"rcount\": 0.440439285, \"respiration\": 0.0, \"sodium\": 0.0}, {\"AdmitDate\": 0.0, \"DATE\": 0.0, \"bloodureanitro\": 0.0, \"bmi\": 0.0, \"creatinine\": 0.0, \"gender\": 0.0, \"glucose\": 0.0, \"hematocrit\": 0.0, \"lengthofstay\": 0.0, \"neutrophils\": 1.0, \"pulse\": 0.0, \"rcount\": 0.0, \"respiration\": 0.0, \"sodium\": 0.0}, {\"AdmitDate\": 0.0, \"DATE\": 0.0, \"bloodureanitro\": 0.0, \"bmi\": 0.0, \"creatinine\": 0.0, \"gender\": 0.0, \"glucose\": 0.0, \"hematocrit\": 0.0, \"lengthofstay\": 0.0, \"neutrophils\": 0.0, \"pulse\": 1.0, \"rcount\": 0.0, \"respiration\": 0.0, \"sodium\": 0.0}, {\"AdmitDate\": 0.0, \"DATE\": 0.0, \"bloodureanitro\": 0.0, \"bmi\": 0.0, \"creatinine\": 0.0, \"gender\": 0.0, \"glucose\": 0.0, \"hematocrit\": 0.0, \"lengthofstay\": 0.5850825186, \"neutrophils\": 0.0, \"pulse\": 0.0, \"rcount\": 1.0, \"respiration\": 0.0, \"sodium\": 0.0}, {\"AdmitDate\": 0.0, \"DATE\": 0.0, \"bloodureanitro\": 0.1127596808, \"bmi\": 0.0, \"creatinine\": 0.0, \"gender\": 0.0, \"glucose\": 0.0, \"hematocrit\": 0.0, \"lengthofstay\": 0.0, \"neutrophils\": 0.0, \"pulse\": 0.0, \"rcount\": 0.0, \"respiration\": 1.0, \"sodium\": 0.0}, {\"AdmitDate\": 0.0, \"DATE\": 0.0, \"bloodureanitro\": 0.0, \"bmi\": 0.0, \"creatinine\": 0.0, \"gender\": 0.0, \"glucose\": 0.0, \"hematocrit\": 0.0, \"lengthofstay\": 0.0, \"neutrophils\": 0.0, \"pulse\": 0.0, \"rcount\": 0.0, \"respiration\": 0.0, \"sodium\": 1.0}], \"HasBasicStats\": 1, \"functionsApplied\": [{\"functionName\": \"transformDate\", \"applyOn\": [{\"columnName\": \"AdmitDate\", \"type\": \"date\", \"min\": \"201311\", \"max\": \"2013123\", \"mean\": \"-\"}], \"functionsData\": [{\"column\": [{\"columnName\": \"AdmitDate\", \"type\": \"date\", \"min\": \"201311\", \"max\": \"2013123\", \"mean\": \"-\"}], \"inputDateFormat\": \"DD/MM/YYYY\", \"outputDateFormat\": \"YYYY-MM-DD\", \"newColumn\": \"True\", \"newColumnName\": \"DATE\"}]}], \"functionChanges\": [{\"columnName\": \"AdmitDate\", \"functionName\": \"transformDate\", \"Type\": \"date\", \"Parameters\": [{\"column\": [{\"columnName\": \"AdmitDate\", \"type\": \"date\", \"min\": \"201311\", \"max\": \"2013123\", \"mean\": \"-\"}], \"inputDateFormat\": \"DD/MM/YYYY\", \"outputDateFormat\": \"YYYY-MM-DD\", \"newColumn\": \"True\", \"newColumnName\": \"DATE\"}]}], \"fileheader\": [{\"field\": \"AdmitDate\", \"alias\": \"AdmitDate\", \"generated\": 0, \"position\": 1, \"type\": \"date\"}, {\"field\": \"lengthofstay\", \"alias\": \"lengthofstay\", \"generated\": 0, \"position\": 2, \"type\": \"numeric\"}, {\"field\": \"rcount\", \"alias\": \"rcount\", \"generated\": 0, \"position\": 3, \"type\": \"numeric\"}, {\"field\": \"gender\", \"alias\": \"gender\", \"generated\": 0, \"position\": 4, \"type\": \"String\"}, {\"field\": \"hematocrit\", \"alias\": \"hematocrit\", \"generated\": 0, \"position\": 5, \"type\": \"real\"}, {\"field\": \"neutrophils\", \"alias\": \"neutrophils\", \"generated\": 0, \"position\": 6, \"type\": \"real\"}, {\"field\": \"sodium\", \"alias\": \"sodium\", \"generated\": 0, \"position\": 7, \"type\": \"real\"}, {\"field\": \"glucose\", \"alias\": \"glucose\", \"generated\": 0, \"position\": 8, \"type\": \"real\"}, {\"field\": \"bloodureanitro\", \"alias\": \"bloodureanitro\", \"generated\": 0, \"position\": 9, \"type\": \"real\"}, {\"field\": \"creatinine\", \"alias\": \"creatinine\", \"generated\": 0, \"position\": 10, \"type\": \"real\"}, {\"field\": \"bmi\", \"alias\": \"bmi\", \"generated\": 0, \"position\": 11, \"type\": \"real\"}, {\"field\": \"pulse\", \"alias\": \"pulse\", \"generated\": 0, \"position\": 12, \"type\": \"numeric\"}, {\"field\": \"respiration\", \"alias\": \"respiration\", \"generated\": 0, \"position\": 13, \"type\": \"real\"}, {\"field\": \"DATE\", \"alias\": \"DATE\", \"generated\": 1, \"position\": 14, \"type\": \"date\"}]}))\n",
    "\t#operationPostExecutionHook(datapreparation)\n",
    "\n",
    "except Exception as ex: \n",
    "\tlogging.error(ex)\n"
   ]
  },
  {
   "cell_type": "markdown",
   "id": "15e134da",
   "metadata": {},
   "source": [
    "***WRITING DATAFRAME***"
   ]
  },
  {
   "cell_type": "code",
   "execution_count": null,
   "id": "98ff8e68",
   "metadata": {},
   "outputs": [],
   "source": [
    "#%run dateHooks.ipynb\n",
    "try:\n",
    "\t#sinkPreExecutionHook()\n",
    "\n",
    "\ttestingoutput = NumtraConnector.fetch(spark, \"{'samplefile': '/FileStore/platform/sampleData/667e9dd98da402555a4e6dee/part-00000-15f567fb-8f97-4182-945d-e205ed56f122-c000.csv', 'samplecount': 99, 'originalcount': 99, 'orignalKey': '/FileStore/platform/testdata/1719574158255_sample 100 rows.csv', 'pathOnly': '/TESTING', 'project_id': '66669026b8756b8967bd0c06', 'parent_id': '66669026b8756b8967bd0c06', 'original_schema': [{'checked': True, 'inherited': True, 'is_categorical': False, 'bad_values': '', 'nullable': 'true', 'field': 'AdmitDate', 'alias': 'AdmitDate', 'type': 'date', 'position': '0'}, {'checked': True, 'inherited': True, 'is_categorical': False, 'bad_values': '', 'nullable': 'true', 'field': 'lengthofstay', 'alias': 'lengthofstay', 'type': 'numeric', 'position': '1'}, {'checked': True, 'inherited': True, 'is_categorical': False, 'bad_values': '', 'nullable': 'true', 'field': 'rcount', 'alias': 'rcount', 'type': 'numeric', 'position': '2'}, {'checked': True, 'inherited': True, 'is_categorical': False, 'bad_values': '', 'nullable': 'true', 'field': 'gender', 'alias': 'gender', 'type': 'String', 'position': '3'}, {'checked': True, 'inherited': True, 'is_categorical': False, 'bad_values': '', 'nullable': 'true', 'field': 'hematocrit', 'alias': 'hematocrit', 'type': 'real', 'position': '4'}, {'checked': True, 'inherited': True, 'is_categorical': False, 'bad_values': '', 'nullable': 'true', 'field': 'neutrophils', 'alias': 'neutrophils', 'type': 'real', 'position': '5'}, {'checked': True, 'inherited': True, 'is_categorical': False, 'bad_values': '', 'nullable': 'true', 'field': 'sodium', 'alias': 'sodium', 'type': 'real', 'position': '6'}, {'checked': True, 'inherited': True, 'is_categorical': False, 'bad_values': '', 'nullable': 'true', 'field': 'glucose', 'alias': 'glucose', 'type': 'real', 'position': '7'}, {'checked': True, 'inherited': True, 'is_categorical': False, 'bad_values': '', 'nullable': 'true', 'field': 'bloodureanitro', 'alias': 'bloodureanitro', 'type': 'real', 'position': '8'}, {'checked': True, 'inherited': True, 'is_categorical': False, 'bad_values': '', 'nullable': 'true', 'field': 'creatinine', 'alias': 'creatinine', 'type': 'real', 'position': '9'}, {'checked': True, 'inherited': True, 'is_categorical': False, 'bad_values': '', 'nullable': 'true', 'field': 'bmi', 'alias': 'bmi', 'type': 'real', 'position': '10'}, {'checked': True, 'inherited': True, 'is_categorical': False, 'bad_values': '', 'nullable': 'true', 'field': 'pulse', 'alias': 'pulse', 'type': 'numeric', 'position': '11'}, {'checked': True, 'inherited': True, 'is_categorical': False, 'bad_values': '', 'nullable': 'true', 'field': 'respiration', 'alias': 'respiration', 'type': 'real', 'position': '12'}, {'checked': True, 'inherited': True, 'is_categorical': False, 'bad_values': '', 'nullable': 'true', 'field': 'DATE', 'alias': 'DATE', 'type': 'date', 'position': '14'}], 'actual_schema': [{'checked': True, 'inherited': True, 'is_categorical': False, 'bad_values': '', 'nullable': 'true', 'field': 'AdmitDate', 'alias': 'AdmitDate', 'type': 'date', 'position': '0'}, {'checked': True, 'inherited': True, 'is_categorical': False, 'bad_values': '', 'nullable': 'true', 'field': 'lengthofstay', 'alias': 'lengthofstay', 'type': 'numeric', 'position': '1'}, {'checked': True, 'inherited': True, 'is_categorical': False, 'bad_values': '', 'nullable': 'true', 'field': 'rcount', 'alias': 'rcount', 'type': 'numeric', 'position': '2'}, {'checked': True, 'inherited': True, 'is_categorical': False, 'bad_values': '', 'nullable': 'true', 'field': 'gender', 'alias': 'gender', 'type': 'String', 'position': '3'}, {'checked': True, 'inherited': True, 'is_categorical': False, 'bad_values': '', 'nullable': 'true', 'field': 'hematocrit', 'alias': 'hematocrit', 'type': 'real', 'position': '4'}, {'checked': True, 'inherited': True, 'is_categorical': False, 'bad_values': '', 'nullable': 'true', 'field': 'neutrophils', 'alias': 'neutrophils', 'type': 'real', 'position': '5'}, {'checked': True, 'inherited': True, 'is_categorical': False, 'bad_values': '', 'nullable': 'true', 'field': 'sodium', 'alias': 'sodium', 'type': 'real', 'position': '6'}, {'checked': True, 'inherited': True, 'is_categorical': False, 'bad_values': '', 'nullable': 'true', 'field': 'glucose', 'alias': 'glucose', 'type': 'real', 'position': '7'}, {'checked': True, 'inherited': True, 'is_categorical': False, 'bad_values': '', 'nullable': 'true', 'field': 'bloodureanitro', 'alias': 'bloodureanitro', 'type': 'real', 'position': '8'}, {'checked': True, 'inherited': True, 'is_categorical': False, 'bad_values': '', 'nullable': 'true', 'field': 'creatinine', 'alias': 'creatinine', 'type': 'real', 'position': '9'}, {'checked': True, 'inherited': True, 'is_categorical': False, 'bad_values': '', 'nullable': 'true', 'field': 'bmi', 'alias': 'bmi', 'type': 'real', 'position': '10'}, {'checked': True, 'inherited': True, 'is_categorical': False, 'bad_values': '', 'nullable': 'true', 'field': 'pulse', 'alias': 'pulse', 'type': 'numeric', 'position': '11'}, {'checked': True, 'inherited': True, 'is_categorical': False, 'bad_values': '', 'nullable': 'true', 'field': 'respiration', 'alias': 'respiration', 'type': 'real', 'position': '12'}], 'server': 'https://dnm.bfirst.ai:443', 'server_url': '/nexusMax/NexusMaxPlatform/uploads/platform/', 'delimiter': ',', 'file_type': 'Delimeted', 'filename': 'Output.csv', 'token': '', 'domain': '', 'is_header': 'Use Header Line', 'url': '/FileStore/platform/uploadedSourceFiles/part-00000-173f6ed0-105b-432a-ac3d-14139e46898f-c000.csv', 'results_url': 'http://dnm.bfirst.ai:44040/api/read/hdfs'}\")\n",
    "\n",
    "except Exception as ex: \n",
    "\tlogging.error(ex)\n"
   ]
  }
 ],
 "metadata": {},
 "nbformat": 4,
 "nbformat_minor": 5
}
